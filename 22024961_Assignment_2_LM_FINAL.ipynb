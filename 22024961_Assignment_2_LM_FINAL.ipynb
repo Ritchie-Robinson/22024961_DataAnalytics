{
  "nbformat": 4,
  "nbformat_minor": 0,
  "metadata": {
    "colab": {
      "provenance": [],
      "collapsed_sections": [
        "AOy880NyjMGq",
        "rueENbN8jSWd",
        "4pyshXxcspSm",
        "h6IeVtlF81Zp",
        "4eGX8Ikv0c4Q",
        "MZfXLljn3M8e",
        "Ns6oPRkAk3OK"
      ]
    },
    "kernelspec": {
      "name": "python3",
      "display_name": "Python 3"
    },
    "language_info": {
      "name": "python"
    }
  },
  "cells": [
    {
      "cell_type": "markdown",
      "source": [
        "#Introduction"
      ],
      "metadata": {
        "id": "yyauCIxxkPF2"
      }
    },
    {
      "cell_type": "markdown",
      "source": [
        "In this part of the project, we import our previously preprocessed data and further process the data before using TensorFlow to train, evaluate, and make predictions about the number of collisions on any given day."
      ],
      "metadata": {
        "id": "EM1pjKBQkRjk"
      }
    },
    {
      "cell_type": "markdown",
      "source": [
        "Pradhan and Sameen (2019) state that “predictive analytics and computational models are essential to forecast future scenarios of road safety.\" Pradhan and Sameen (2019) go on to describe how predictive models are classified into two main groups, namely statistical and computational intelligence. For the next part of our assignment, we will use modelling from both groups. Firstly, we will use a linear regression model (statistical), and later, we will use a deep neural network (DNN) (computational intelligence). We will train, evaluate, and use both models to make predictions on the number of traffic collisions on any given day in New York City."
      ],
      "metadata": {
        "id": "x7nMqK2ql7iH"
      }
    },
    {
      "cell_type": "markdown",
      "source": [
        "#Import Data"
      ],
      "metadata": {
        "id": "AOy880NyjMGq"
      }
    },
    {
      "cell_type": "code",
      "execution_count": null,
      "metadata": {
        "id": "dgDyCICSpomY"
      },
      "outputs": [],
      "source": [
        "# needed to create the data frame\n",
        "import pandas as pd\n",
        "\n",
        "#create non-standardised df\n",
        "non_stan = pd.read_csv('https://raw.githubusercontent.com/Ritchie-Robinson/22024961_DataAnalytics/main/lmfiltered.csv', index_col=0)\n",
        "\n",
        "#create standardised df\n",
        "stan = pd.read_csv('https://raw.githubusercontent.com/Ritchie-Robinson/22024961_DataAnalytics/main/lmfiltered_standardised.csv', index_col=0)\n"
      ]
    },
    {
      "cell_type": "code",
      "source": [
        "print(non_stan[:10])\n",
        "print(stan[:10])"
      ],
      "metadata": {
        "colab": {
          "base_uri": "https://localhost:8080/"
        },
        "id": "r_D7i3F4rY3D",
        "outputId": "f5d9a294-fcc1-46be-efae-0799a26c62be"
      },
      "execution_count": null,
      "outputs": [
        {
          "output_type": "stream",
          "name": "stdout",
          "text": [
            "    day_num  max_temp  num_collisions\n",
            "1         4      39.0             586\n",
            "2         5      19.4             705\n",
            "3         7      48.9             445\n",
            "4         3      57.9             502\n",
            "5         1      33.1             703\n",
            "6         3      45.0             514\n",
            "7         4      45.0             580\n",
            "8         1      16.0             412\n",
            "9         5      39.9             666\n",
            "10        4      59.0             592\n",
            "    day_num  max_temp_standardised  num_collisions\n",
            "1         4              -1.466071             586\n",
            "2         5              -2.561928             705\n",
            "3         7              -0.912551             445\n",
            "4         3              -0.409351             502\n",
            "5         1              -1.795946             703\n",
            "6         3              -1.130604             514\n",
            "7         4              -1.130604             580\n",
            "8         1              -2.752026             412\n",
            "9         5              -1.415751             666\n",
            "10        4              -0.347848             592\n"
          ]
        }
      ]
    },
    {
      "cell_type": "markdown",
      "source": [
        "#Shuffle and Normalise"
      ],
      "metadata": {
        "id": "rueENbN8jSWd"
      }
    },
    {
      "cell_type": "markdown",
      "source": [
        "Below we will shuffle the rows in both data sets to minimise the risk of unintended patterns in the data."
      ],
      "metadata": {
        "id": "htjDNLRQ-_0v"
      }
    },
    {
      "cell_type": "code",
      "source": [
        "# import\n",
        "import numpy as np\n",
        "\n",
        "# shuffle rows with iloc using random permutation.\n",
        "shuffle_non_stan = non_stan.iloc[np.random.permutation(len(non_stan))]\n",
        "\n",
        "shuffle_stan = stan.iloc[np.random.permutation(len(stan))]\n"
      ],
      "metadata": {
        "id": "ny0-NENnrorN"
      },
      "execution_count": null,
      "outputs": []
    },
    {
      "cell_type": "markdown",
      "source": [
        "Let us identify the min and max values for the number of collisions. This will allow us to better assess and interpret the Mean Absolute Error (MAE) when we evaluate our non-normalised models."
      ],
      "metadata": {
        "id": "7E_fEbwJbL2F"
      }
    },
    {
      "cell_type": "code",
      "source": [
        "print(\"Min \", shuffle_stan['num_collisions'].min(), \" Max \", shuffle_stan['num_collisions'].max())"
      ],
      "metadata": {
        "colab": {
          "base_uri": "https://localhost:8080/"
        },
        "id": "QL4flKJga2PA",
        "outputId": "952d0431-f28d-49c7-f754-26767668a629"
      },
      "execution_count": null,
      "outputs": [
        {
          "output_type": "stream",
          "name": "stdout",
          "text": [
            "Min  353  Max  845\n"
          ]
        }
      ]
    },
    {
      "cell_type": "markdown",
      "source": [
        "Now the rows have been shuffled in both datasets, we will now normalise the collisions values in only the standardised dataset, as these have not been standardised previously."
      ],
      "metadata": {
        "id": "NrDe5nYFuDAL"
      }
    },
    {
      "cell_type": "code",
      "source": [
        "SCALE_NUM_COLL = 1.0\n",
        "\n",
        "shuffle_stan['num_collisions'] = (shuffle_stan['num_collisions'] - shuffle_stan['num_collisions'].min()) / (shuffle_stan['num_collisions'].max() - shuffle_stan['num_collisions'].min()) * SCALE_NUM_COLL\n",
        "\n",
        "# print out the first 10 rows\n",
        "print(\"Normalised output variables first 10 rows:\\n\\n\", shuffle_stan[:10])"
      ],
      "metadata": {
        "colab": {
          "base_uri": "https://localhost:8080/"
        },
        "id": "7mQ-UOS9wqsI",
        "outputId": "4eed511e-3946-443e-c60f-ab9ac36d62a0"
      },
      "execution_count": null,
      "outputs": [
        {
          "output_type": "stream",
          "name": "stdout",
          "text": [
            "Normalised output variables first 10 rows:\n",
            "\n",
            "       day_num  max_temp_standardised  num_collisions\n",
            "1022        5               0.267174        0.684959\n",
            "426         7              -1.024373        0.142276\n",
            "3786        1              -0.521173        0.699187\n",
            "1742        4               0.988427        0.780488\n",
            "1055        3              -0.789546        0.526423\n",
            "489         1              -1.130604        0.278455\n",
            "4000        6              -0.571493        0.247967\n",
            "1788        2               0.267174        0.532520\n",
            "3928        5              -0.627404        0.193089\n",
            "3952        4              -1.024373        0.123984\n"
          ]
        }
      ]
    },
    {
      "cell_type": "markdown",
      "source": [
        "#TensorFlow"
      ],
      "metadata": {
        "id": "7MCst43MjcDK"
      }
    },
    {
      "cell_type": "markdown",
      "source": [
        "Now we will use both sets to train and evaluate different models. For this we will need to import the TensorFlow library."
      ],
      "metadata": {
        "id": "wEh2B5O__pQW"
      }
    },
    {
      "cell_type": "code",
      "source": [
        "import tensorflow as tf\n",
        "\n",
        "from tensorflow import keras\n",
        "from tensorflow.keras import layers\n",
        "\n",
        "print(tf.__version__)"
      ],
      "metadata": {
        "colab": {
          "base_uri": "https://localhost:8080/"
        },
        "id": "tegmckVFznwh",
        "outputId": "dfbb9247-d511-4557-f4ac-0ae16bcb47ca"
      },
      "execution_count": null,
      "outputs": [
        {
          "output_type": "stream",
          "name": "stdout",
          "text": [
            "2.15.0\n"
          ]
        }
      ]
    },
    {
      "cell_type": "markdown",
      "source": [
        "##Model 0 - Day Only Non-Standardised"
      ],
      "metadata": {
        "id": "4pyshXxcspSm"
      }
    },
    {
      "cell_type": "markdown",
      "source": [
        "Create new dataframe."
      ],
      "metadata": {
        "id": "Xk8M9iVAs4G7"
      }
    },
    {
      "cell_type": "code",
      "source": [
        "#create dataframe with inputs and output from imported dataframe.\n",
        "df_input_data_day = [shuffle_non_stan[\"day_num\"], shuffle_non_stan[\"num_collisions\"]]\n",
        "#create headers for the new dataframe.\n",
        "df_input_headers_day = [\"day_num\", \"num_collisions\"]\n",
        "#create final dataframe by concatenating new dataframe and headers.\n",
        "df_input_day = pd.concat(df_input_data_day, axis=1, keys=df_input_headers_day)"
      ],
      "metadata": {
        "id": "VzTFiubk0WQC"
      },
      "execution_count": null,
      "outputs": []
    },
    {
      "cell_type": "markdown",
      "source": [
        "Construct training data."
      ],
      "metadata": {
        "id": "QxXi-Md1szIo"
      }
    },
    {
      "cell_type": "code",
      "source": [
        "#construct training set and test set (with 0.8 for an 80% training set and 20% for test)\n",
        "training_set_day = df_input_day.sample(frac=0.8, random_state=0)\n",
        "test_set_day = df_input_day.drop(training_set_day.index)"
      ],
      "metadata": {
        "id": "x1RetTA0s3LN"
      },
      "execution_count": null,
      "outputs": []
    },
    {
      "cell_type": "markdown",
      "source": [
        "Copy the datasets and remove output variable."
      ],
      "metadata": {
        "id": "amIUGriYs-HH"
      }
    },
    {
      "cell_type": "code",
      "source": [
        "#copy datasets and remove output variable\n",
        "training_features_day = training_set_day.copy()\n",
        "test_features_day = test_set_day.copy()\n",
        "\n",
        "training_labels_day = training_features_day.pop('num_collisions')\n",
        "test_labels_day = test_features_day.pop('num_collisions')"
      ],
      "metadata": {
        "id": "MFSFTW7Es-sX"
      },
      "execution_count": null,
      "outputs": []
    },
    {
      "cell_type": "code",
      "source": [
        "print(training_features_day)"
      ],
      "metadata": {
        "colab": {
          "base_uri": "https://localhost:8080/"
        },
        "id": "_bDbKPaZtM6I",
        "outputId": "a3aaefa7-f169-4db1-d050-60e31dc368a8"
      },
      "execution_count": null,
      "outputs": [
        {
          "output_type": "stream",
          "name": "stdout",
          "text": [
            "      day_num\n",
            "2401        3\n",
            "2246        5\n",
            "1927        3\n",
            "1713        2\n",
            "1380        4\n",
            "...       ...\n",
            "584         1\n",
            "3585        2\n",
            "1074        6\n",
            "1455        6\n",
            "423         3\n",
            "\n",
            "[2222 rows x 1 columns]\n"
          ]
        }
      ]
    },
    {
      "cell_type": "markdown",
      "source": [
        "###Train Model 0"
      ],
      "metadata": {
        "id": "NE6eccFqXycL"
      }
    },
    {
      "cell_type": "code",
      "source": [
        "model_0 = tf.keras.Sequential([\n",
        "    layers.Dense(units=1)\n",
        "])"
      ],
      "metadata": {
        "id": "CpT0nwKrvpLw"
      },
      "execution_count": null,
      "outputs": []
    },
    {
      "cell_type": "code",
      "source": [
        "model_0.compile(\n",
        "    optimizer=tf.optimizers.Adam(learning_rate=0.1),\n",
        "    loss='mean_absolute_error')"
      ],
      "metadata": {
        "id": "lLhZTGeUvzMC"
      },
      "execution_count": null,
      "outputs": []
    },
    {
      "cell_type": "code",
      "source": [
        "#fit model\n",
        "#run 100 times (epochs) and apply further 20% validation split.\n",
        "\n",
        "%%time\n",
        "history = model_0.fit(\n",
        "    training_features_day,\n",
        "    training_labels_day,\n",
        "    epochs=100,\n",
        "    verbose=0,\n",
        "    validation_split = 0.2)"
      ],
      "metadata": {
        "colab": {
          "base_uri": "https://localhost:8080/"
        },
        "id": "v_5gvQDmv3so",
        "outputId": "9b085019-ecfd-4f35-b0c4-06462db98f75"
      },
      "execution_count": null,
      "outputs": [
        {
          "output_type": "stream",
          "name": "stdout",
          "text": [
            "CPU times: user 13.1 s, sys: 641 ms, total: 13.7 s\n",
            "Wall time: 12.8 s\n"
          ]
        }
      ]
    },
    {
      "cell_type": "markdown",
      "source": [
        "###Evaluate Model 0"
      ],
      "metadata": {
        "id": "OATlz7v0X8TA"
      }
    },
    {
      "cell_type": "code",
      "source": [
        "#evaluate model using test features and labels.\n",
        "mean_absolute_error_model_0 = model_0.evaluate(\n",
        "    test_features_day,\n",
        "    test_labels_day, verbose=0)"
      ],
      "metadata": {
        "id": "Jsg6c4lOwDwn"
      },
      "execution_count": null,
      "outputs": []
    },
    {
      "cell_type": "code",
      "source": [
        "#print out mean absolute error\n",
        "print(mean_absolute_error_model_0)"
      ],
      "metadata": {
        "colab": {
          "base_uri": "https://localhost:8080/"
        },
        "id": "7fpFsGxQwKYZ",
        "outputId": "066b38d8-172b-42b0-8233-10329b194c96"
      },
      "execution_count": null,
      "outputs": [
        {
          "output_type": "stream",
          "name": "stdout",
          "text": [
            "116.93606567382812\n"
          ]
        }
      ]
    },
    {
      "cell_type": "markdown",
      "source": [
        "The MAE is showing that the models predictions are out by 120 collisions a day on average. Considering that the range of collisions are between a minimum of 353 and a maximum of 845, this shows that there is a degree of accuracy with the model although not ideal."
      ],
      "metadata": {
        "id": "JVMnKPntahqp"
      }
    },
    {
      "cell_type": "markdown",
      "source": [
        "###Predictions for Model 0"
      ],
      "metadata": {
        "id": "0-5X8cFaTYx6"
      }
    },
    {
      "cell_type": "code",
      "source": [
        "#create custom dataframe with 5 dummy values\n",
        "input_0 = pd.DataFrame.from_dict(data =\n",
        "\t\t\t\t{\n",
        "            'day_num' : [3,5,7,1,2]\n",
        "        })"
      ],
      "metadata": {
        "id": "EWw73cguTYHv"
      },
      "execution_count": null,
      "outputs": []
    },
    {
      "cell_type": "code",
      "source": [
        "input_0.head()"
      ],
      "metadata": {
        "colab": {
          "base_uri": "https://localhost:8080/",
          "height": 206
        },
        "id": "6Cb80154T4Hw",
        "outputId": "2f97a9de-6f69-4be4-a0d2-50489149cc6e"
      },
      "execution_count": null,
      "outputs": [
        {
          "output_type": "execute_result",
          "data": {
            "text/plain": [
              "   day_num\n",
              "0        3\n",
              "1        5\n",
              "2        7\n",
              "3        1\n",
              "4        2"
            ],
            "text/html": [
              "\n",
              "  <div id=\"df-a3aee744-9c07-4664-ab61-ef2c1f5f3480\" class=\"colab-df-container\">\n",
              "    <div>\n",
              "<style scoped>\n",
              "    .dataframe tbody tr th:only-of-type {\n",
              "        vertical-align: middle;\n",
              "    }\n",
              "\n",
              "    .dataframe tbody tr th {\n",
              "        vertical-align: top;\n",
              "    }\n",
              "\n",
              "    .dataframe thead th {\n",
              "        text-align: right;\n",
              "    }\n",
              "</style>\n",
              "<table border=\"1\" class=\"dataframe\">\n",
              "  <thead>\n",
              "    <tr style=\"text-align: right;\">\n",
              "      <th></th>\n",
              "      <th>day_num</th>\n",
              "    </tr>\n",
              "  </thead>\n",
              "  <tbody>\n",
              "    <tr>\n",
              "      <th>0</th>\n",
              "      <td>3</td>\n",
              "    </tr>\n",
              "    <tr>\n",
              "      <th>1</th>\n",
              "      <td>5</td>\n",
              "    </tr>\n",
              "    <tr>\n",
              "      <th>2</th>\n",
              "      <td>7</td>\n",
              "    </tr>\n",
              "    <tr>\n",
              "      <th>3</th>\n",
              "      <td>1</td>\n",
              "    </tr>\n",
              "    <tr>\n",
              "      <th>4</th>\n",
              "      <td>2</td>\n",
              "    </tr>\n",
              "  </tbody>\n",
              "</table>\n",
              "</div>\n",
              "    <div class=\"colab-df-buttons\">\n",
              "\n",
              "  <div class=\"colab-df-container\">\n",
              "    <button class=\"colab-df-convert\" onclick=\"convertToInteractive('df-a3aee744-9c07-4664-ab61-ef2c1f5f3480')\"\n",
              "            title=\"Convert this dataframe to an interactive table.\"\n",
              "            style=\"display:none;\">\n",
              "\n",
              "  <svg xmlns=\"http://www.w3.org/2000/svg\" height=\"24px\" viewBox=\"0 -960 960 960\">\n",
              "    <path d=\"M120-120v-720h720v720H120Zm60-500h600v-160H180v160Zm220 220h160v-160H400v160Zm0 220h160v-160H400v160ZM180-400h160v-160H180v160Zm440 0h160v-160H620v160ZM180-180h160v-160H180v160Zm440 0h160v-160H620v160Z\"/>\n",
              "  </svg>\n",
              "    </button>\n",
              "\n",
              "  <style>\n",
              "    .colab-df-container {\n",
              "      display:flex;\n",
              "      gap: 12px;\n",
              "    }\n",
              "\n",
              "    .colab-df-convert {\n",
              "      background-color: #E8F0FE;\n",
              "      border: none;\n",
              "      border-radius: 50%;\n",
              "      cursor: pointer;\n",
              "      display: none;\n",
              "      fill: #1967D2;\n",
              "      height: 32px;\n",
              "      padding: 0 0 0 0;\n",
              "      width: 32px;\n",
              "    }\n",
              "\n",
              "    .colab-df-convert:hover {\n",
              "      background-color: #E2EBFA;\n",
              "      box-shadow: 0px 1px 2px rgba(60, 64, 67, 0.3), 0px 1px 3px 1px rgba(60, 64, 67, 0.15);\n",
              "      fill: #174EA6;\n",
              "    }\n",
              "\n",
              "    .colab-df-buttons div {\n",
              "      margin-bottom: 4px;\n",
              "    }\n",
              "\n",
              "    [theme=dark] .colab-df-convert {\n",
              "      background-color: #3B4455;\n",
              "      fill: #D2E3FC;\n",
              "    }\n",
              "\n",
              "    [theme=dark] .colab-df-convert:hover {\n",
              "      background-color: #434B5C;\n",
              "      box-shadow: 0px 1px 3px 1px rgba(0, 0, 0, 0.15);\n",
              "      filter: drop-shadow(0px 1px 2px rgba(0, 0, 0, 0.3));\n",
              "      fill: #FFFFFF;\n",
              "    }\n",
              "  </style>\n",
              "\n",
              "    <script>\n",
              "      const buttonEl =\n",
              "        document.querySelector('#df-a3aee744-9c07-4664-ab61-ef2c1f5f3480 button.colab-df-convert');\n",
              "      buttonEl.style.display =\n",
              "        google.colab.kernel.accessAllowed ? 'block' : 'none';\n",
              "\n",
              "      async function convertToInteractive(key) {\n",
              "        const element = document.querySelector('#df-a3aee744-9c07-4664-ab61-ef2c1f5f3480');\n",
              "        const dataTable =\n",
              "          await google.colab.kernel.invokeFunction('convertToInteractive',\n",
              "                                                    [key], {});\n",
              "        if (!dataTable) return;\n",
              "\n",
              "        const docLinkHtml = 'Like what you see? Visit the ' +\n",
              "          '<a target=\"_blank\" href=https://colab.research.google.com/notebooks/data_table.ipynb>data table notebook</a>'\n",
              "          + ' to learn more about interactive tables.';\n",
              "        element.innerHTML = '';\n",
              "        dataTable['output_type'] = 'display_data';\n",
              "        await google.colab.output.renderOutput(dataTable, element);\n",
              "        const docLink = document.createElement('div');\n",
              "        docLink.innerHTML = docLinkHtml;\n",
              "        element.appendChild(docLink);\n",
              "      }\n",
              "    </script>\n",
              "  </div>\n",
              "\n",
              "\n",
              "<div id=\"df-f1a62315-ccbd-44f1-8dcd-7c34ea108480\">\n",
              "  <button class=\"colab-df-quickchart\" onclick=\"quickchart('df-f1a62315-ccbd-44f1-8dcd-7c34ea108480')\"\n",
              "            title=\"Suggest charts\"\n",
              "            style=\"display:none;\">\n",
              "\n",
              "<svg xmlns=\"http://www.w3.org/2000/svg\" height=\"24px\"viewBox=\"0 0 24 24\"\n",
              "     width=\"24px\">\n",
              "    <g>\n",
              "        <path d=\"M19 3H5c-1.1 0-2 .9-2 2v14c0 1.1.9 2 2 2h14c1.1 0 2-.9 2-2V5c0-1.1-.9-2-2-2zM9 17H7v-7h2v7zm4 0h-2V7h2v10zm4 0h-2v-4h2v4z\"/>\n",
              "    </g>\n",
              "</svg>\n",
              "  </button>\n",
              "\n",
              "<style>\n",
              "  .colab-df-quickchart {\n",
              "      --bg-color: #E8F0FE;\n",
              "      --fill-color: #1967D2;\n",
              "      --hover-bg-color: #E2EBFA;\n",
              "      --hover-fill-color: #174EA6;\n",
              "      --disabled-fill-color: #AAA;\n",
              "      --disabled-bg-color: #DDD;\n",
              "  }\n",
              "\n",
              "  [theme=dark] .colab-df-quickchart {\n",
              "      --bg-color: #3B4455;\n",
              "      --fill-color: #D2E3FC;\n",
              "      --hover-bg-color: #434B5C;\n",
              "      --hover-fill-color: #FFFFFF;\n",
              "      --disabled-bg-color: #3B4455;\n",
              "      --disabled-fill-color: #666;\n",
              "  }\n",
              "\n",
              "  .colab-df-quickchart {\n",
              "    background-color: var(--bg-color);\n",
              "    border: none;\n",
              "    border-radius: 50%;\n",
              "    cursor: pointer;\n",
              "    display: none;\n",
              "    fill: var(--fill-color);\n",
              "    height: 32px;\n",
              "    padding: 0;\n",
              "    width: 32px;\n",
              "  }\n",
              "\n",
              "  .colab-df-quickchart:hover {\n",
              "    background-color: var(--hover-bg-color);\n",
              "    box-shadow: 0 1px 2px rgba(60, 64, 67, 0.3), 0 1px 3px 1px rgba(60, 64, 67, 0.15);\n",
              "    fill: var(--button-hover-fill-color);\n",
              "  }\n",
              "\n",
              "  .colab-df-quickchart-complete:disabled,\n",
              "  .colab-df-quickchart-complete:disabled:hover {\n",
              "    background-color: var(--disabled-bg-color);\n",
              "    fill: var(--disabled-fill-color);\n",
              "    box-shadow: none;\n",
              "  }\n",
              "\n",
              "  .colab-df-spinner {\n",
              "    border: 2px solid var(--fill-color);\n",
              "    border-color: transparent;\n",
              "    border-bottom-color: var(--fill-color);\n",
              "    animation:\n",
              "      spin 1s steps(1) infinite;\n",
              "  }\n",
              "\n",
              "  @keyframes spin {\n",
              "    0% {\n",
              "      border-color: transparent;\n",
              "      border-bottom-color: var(--fill-color);\n",
              "      border-left-color: var(--fill-color);\n",
              "    }\n",
              "    20% {\n",
              "      border-color: transparent;\n",
              "      border-left-color: var(--fill-color);\n",
              "      border-top-color: var(--fill-color);\n",
              "    }\n",
              "    30% {\n",
              "      border-color: transparent;\n",
              "      border-left-color: var(--fill-color);\n",
              "      border-top-color: var(--fill-color);\n",
              "      border-right-color: var(--fill-color);\n",
              "    }\n",
              "    40% {\n",
              "      border-color: transparent;\n",
              "      border-right-color: var(--fill-color);\n",
              "      border-top-color: var(--fill-color);\n",
              "    }\n",
              "    60% {\n",
              "      border-color: transparent;\n",
              "      border-right-color: var(--fill-color);\n",
              "    }\n",
              "    80% {\n",
              "      border-color: transparent;\n",
              "      border-right-color: var(--fill-color);\n",
              "      border-bottom-color: var(--fill-color);\n",
              "    }\n",
              "    90% {\n",
              "      border-color: transparent;\n",
              "      border-bottom-color: var(--fill-color);\n",
              "    }\n",
              "  }\n",
              "</style>\n",
              "\n",
              "  <script>\n",
              "    async function quickchart(key) {\n",
              "      const quickchartButtonEl =\n",
              "        document.querySelector('#' + key + ' button');\n",
              "      quickchartButtonEl.disabled = true;  // To prevent multiple clicks.\n",
              "      quickchartButtonEl.classList.add('colab-df-spinner');\n",
              "      try {\n",
              "        const charts = await google.colab.kernel.invokeFunction(\n",
              "            'suggestCharts', [key], {});\n",
              "      } catch (error) {\n",
              "        console.error('Error during call to suggestCharts:', error);\n",
              "      }\n",
              "      quickchartButtonEl.classList.remove('colab-df-spinner');\n",
              "      quickchartButtonEl.classList.add('colab-df-quickchart-complete');\n",
              "    }\n",
              "    (() => {\n",
              "      let quickchartButtonEl =\n",
              "        document.querySelector('#df-f1a62315-ccbd-44f1-8dcd-7c34ea108480 button');\n",
              "      quickchartButtonEl.style.display =\n",
              "        google.colab.kernel.accessAllowed ? 'block' : 'none';\n",
              "    })();\n",
              "  </script>\n",
              "</div>\n",
              "    </div>\n",
              "  </div>\n"
            ]
          },
          "metadata": {},
          "execution_count": 47
        }
      ]
    },
    {
      "cell_type": "markdown",
      "source": [
        "Below we use our model 0 to make predictions and we remove the decimal place to give a realistic number of potential collisions based on the day of the week."
      ],
      "metadata": {
        "id": "kBVDpO9VV4eb"
      }
    },
    {
      "cell_type": "code",
      "source": [
        "model_0_predictions = model_0.predict(input_0[:5])\n",
        "model_0_predictions = model_0_predictions.astype(int)\n",
        "print(model_0_predictions)"
      ],
      "metadata": {
        "colab": {
          "base_uri": "https://localhost:8080/"
        },
        "id": "60dUR5yqUDSc",
        "outputId": "7c3e7739-beda-4bfb-fc07-d58d1801acbb"
      },
      "execution_count": null,
      "outputs": [
        {
          "output_type": "stream",
          "name": "stdout",
          "text": [
            "1/1 [==============================] - 0s 42ms/step\n",
            "[[520]\n",
            " [584]\n",
            " [649]\n",
            " [455]\n",
            " [487]]\n"
          ]
        }
      ]
    },
    {
      "cell_type": "markdown",
      "source": [
        "##Model 1 - Day Only Non-Standardised but with Normalisation Layer"
      ],
      "metadata": {
        "id": "h6IeVtlF81Zp"
      }
    },
    {
      "cell_type": "markdown",
      "source": [
        "Create new dataframe."
      ],
      "metadata": {
        "id": "j4DFidow81Zx"
      }
    },
    {
      "cell_type": "code",
      "source": [
        "#create dataframe with inputs and output from imported dataframe.\n",
        "df_input_data_day_norm = [shuffle_non_stan[\"day_num\"], shuffle_non_stan[\"num_collisions\"]]\n",
        "#create headers for the new dataframe.\n",
        "df_input_headers_day_norm = [\"day_num\", \"num_collisions\"]\n",
        "#create final dataframe by concatenating new dataframe and headers.\n",
        "df_input_day_norm = pd.concat(df_input_data_day_norm, axis=1, keys=df_input_headers_day_norm)"
      ],
      "metadata": {
        "id": "SJmLHHiN81Zx"
      },
      "execution_count": null,
      "outputs": []
    },
    {
      "cell_type": "markdown",
      "source": [
        "Construct training data."
      ],
      "metadata": {
        "id": "59Tr7t4t81Zy"
      }
    },
    {
      "cell_type": "code",
      "source": [
        "#construct training set and test set (with 0.8 for an 80% training set and 20% for test)\n",
        "training_set_day_norm = df_input_day_norm.sample(frac=0.8, random_state=0)\n",
        "test_set_day_norm = df_input_day_norm.drop(training_set_day_norm.index)"
      ],
      "metadata": {
        "id": "DWLEGL4M81Zy"
      },
      "execution_count": null,
      "outputs": []
    },
    {
      "cell_type": "markdown",
      "source": [
        "Copy the datasets and remove output variable."
      ],
      "metadata": {
        "id": "kpUbFvG581Zy"
      }
    },
    {
      "cell_type": "code",
      "source": [
        "#copy datasets and remove output variable\n",
        "training_features_day_norm = training_set_day_norm.copy()\n",
        "test_features_day_norm = test_set_day_norm.copy()\n",
        "\n",
        "training_labels_day_norm = training_features_day_norm.pop('num_collisions')\n",
        "test_labels_day_norm = test_features_day_norm.pop('num_collisions')"
      ],
      "metadata": {
        "id": "Aevytsf681Zy"
      },
      "execution_count": null,
      "outputs": []
    },
    {
      "cell_type": "code",
      "source": [
        "print(training_features_day_norm)"
      ],
      "metadata": {
        "colab": {
          "base_uri": "https://localhost:8080/"
        },
        "outputId": "8be97b90-d4f2-4fd7-9775-ee277f545433",
        "id": "kmiJyS-081Zy"
      },
      "execution_count": null,
      "outputs": [
        {
          "output_type": "stream",
          "name": "stdout",
          "text": [
            "      day_num\n",
            "2401        3\n",
            "2246        5\n",
            "1927        3\n",
            "1713        2\n",
            "1380        4\n",
            "...       ...\n",
            "584         1\n",
            "3585        2\n",
            "1074        6\n",
            "1455        6\n",
            "423         3\n",
            "\n",
            "[2222 rows x 1 columns]\n"
          ]
        }
      ]
    },
    {
      "cell_type": "markdown",
      "source": [
        "For this model we will create a normalisation layer."
      ],
      "metadata": {
        "id": "Al_djFMJ81Zy"
      }
    },
    {
      "cell_type": "code",
      "source": [
        "#create normalisation layer\n",
        "normaliser_day = tf.keras.layers.Normalization(input_shape=[1,], axis=None)\n",
        "normaliser_day.adapt(np.array(training_features_day_norm))"
      ],
      "metadata": {
        "id": "44mUdI9h81Zy"
      },
      "execution_count": null,
      "outputs": []
    },
    {
      "cell_type": "markdown",
      "source": [
        "###Train Model 1"
      ],
      "metadata": {
        "id": "-Sek8PfDgp3K"
      }
    },
    {
      "cell_type": "markdown",
      "source": [
        "Train the model."
      ],
      "metadata": {
        "id": "1EnewK9081Zz"
      }
    },
    {
      "cell_type": "code",
      "source": [
        "model_1 = tf.keras.Sequential([\n",
        "    normaliser_day,\n",
        "    layers.Dense(units=1)\n",
        "])"
      ],
      "metadata": {
        "id": "cdZx0z2J81Zz"
      },
      "execution_count": null,
      "outputs": []
    },
    {
      "cell_type": "code",
      "source": [
        "model_1.compile(\n",
        "    optimizer=tf.optimizers.Adam(learning_rate=0.1),\n",
        "    loss='mean_absolute_error')"
      ],
      "metadata": {
        "id": "Exfdz6IE81Zz"
      },
      "execution_count": null,
      "outputs": []
    },
    {
      "cell_type": "code",
      "source": [
        "#fit model\n",
        "#run 100 times (epochs) and apply further 20% validation split.\n",
        "\n",
        "%%time\n",
        "history = model_1.fit(\n",
        "    training_features_day_norm,\n",
        "    training_labels_day_norm,\n",
        "    epochs=100,\n",
        "    verbose=0,\n",
        "    validation_split = 0.2)"
      ],
      "metadata": {
        "colab": {
          "base_uri": "https://localhost:8080/"
        },
        "outputId": "90de4707-5c0a-4e19-f946-ee6ed20b407a",
        "id": "kE0lwvA381Zz"
      },
      "execution_count": null,
      "outputs": [
        {
          "output_type": "stream",
          "name": "stdout",
          "text": [
            "CPU times: user 13.3 s, sys: 662 ms, total: 13.9 s\n",
            "Wall time: 21.1 s\n"
          ]
        }
      ]
    },
    {
      "cell_type": "markdown",
      "source": [
        "###Evaluate Model 1"
      ],
      "metadata": {
        "id": "3vmd4x1lgvvw"
      }
    },
    {
      "cell_type": "code",
      "source": [
        "#evaluate model using test features and labels.\n",
        "mean_absolute_error_model_1 = model_1.evaluate(\n",
        "    test_features_day_norm,\n",
        "    test_labels_day_norm, verbose=0)"
      ],
      "metadata": {
        "id": "NzuhnUNv81Zz"
      },
      "execution_count": null,
      "outputs": []
    },
    {
      "cell_type": "code",
      "source": [
        "#print out mean absolute error\n",
        "print(mean_absolute_error_model_1)"
      ],
      "metadata": {
        "colab": {
          "base_uri": "https://localhost:8080/"
        },
        "outputId": "18fbf9c1-c062-4cf7-9648-1843fceb6187",
        "id": "qA2NmCra81Zz"
      },
      "execution_count": null,
      "outputs": [
        {
          "output_type": "stream",
          "name": "stdout",
          "text": [
            "87.38441467285156\n"
          ]
        }
      ]
    },
    {
      "cell_type": "markdown",
      "source": [
        "Even with the added normalised layer, the MAE is out by around 90 collisions a day. This is an improvement. However, the model still is not perfect."
      ],
      "metadata": {
        "id": "QIJWtxGyg0U0"
      }
    },
    {
      "cell_type": "markdown",
      "source": [
        "###Predictions for Model 1"
      ],
      "metadata": {
        "id": "fIAPt5fMhDtH"
      }
    },
    {
      "cell_type": "code",
      "source": [
        "#create custom dataframe with 5 dummy values\n",
        "input_1 = pd.DataFrame.from_dict(data =\n",
        "\t\t\t\t{\n",
        "            'day_num' : [2,1,5,7,2]\n",
        "        })"
      ],
      "metadata": {
        "id": "RohtRASEhGf-"
      },
      "execution_count": null,
      "outputs": []
    },
    {
      "cell_type": "code",
      "source": [
        "input_1.head()"
      ],
      "metadata": {
        "colab": {
          "base_uri": "https://localhost:8080/",
          "height": 206
        },
        "id": "S3touq0HhTjn",
        "outputId": "28ce0f32-a159-49eb-de4b-4e515a749c81"
      },
      "execution_count": null,
      "outputs": [
        {
          "output_type": "execute_result",
          "data": {
            "text/plain": [
              "   day_num\n",
              "0        2\n",
              "1        1\n",
              "2        5\n",
              "3        7\n",
              "4        2"
            ],
            "text/html": [
              "\n",
              "  <div id=\"df-951a239d-67da-44db-b1bb-f35fc8351d5f\" class=\"colab-df-container\">\n",
              "    <div>\n",
              "<style scoped>\n",
              "    .dataframe tbody tr th:only-of-type {\n",
              "        vertical-align: middle;\n",
              "    }\n",
              "\n",
              "    .dataframe tbody tr th {\n",
              "        vertical-align: top;\n",
              "    }\n",
              "\n",
              "    .dataframe thead th {\n",
              "        text-align: right;\n",
              "    }\n",
              "</style>\n",
              "<table border=\"1\" class=\"dataframe\">\n",
              "  <thead>\n",
              "    <tr style=\"text-align: right;\">\n",
              "      <th></th>\n",
              "      <th>day_num</th>\n",
              "    </tr>\n",
              "  </thead>\n",
              "  <tbody>\n",
              "    <tr>\n",
              "      <th>0</th>\n",
              "      <td>2</td>\n",
              "    </tr>\n",
              "    <tr>\n",
              "      <th>1</th>\n",
              "      <td>1</td>\n",
              "    </tr>\n",
              "    <tr>\n",
              "      <th>2</th>\n",
              "      <td>5</td>\n",
              "    </tr>\n",
              "    <tr>\n",
              "      <th>3</th>\n",
              "      <td>7</td>\n",
              "    </tr>\n",
              "    <tr>\n",
              "      <th>4</th>\n",
              "      <td>2</td>\n",
              "    </tr>\n",
              "  </tbody>\n",
              "</table>\n",
              "</div>\n",
              "    <div class=\"colab-df-buttons\">\n",
              "\n",
              "  <div class=\"colab-df-container\">\n",
              "    <button class=\"colab-df-convert\" onclick=\"convertToInteractive('df-951a239d-67da-44db-b1bb-f35fc8351d5f')\"\n",
              "            title=\"Convert this dataframe to an interactive table.\"\n",
              "            style=\"display:none;\">\n",
              "\n",
              "  <svg xmlns=\"http://www.w3.org/2000/svg\" height=\"24px\" viewBox=\"0 -960 960 960\">\n",
              "    <path d=\"M120-120v-720h720v720H120Zm60-500h600v-160H180v160Zm220 220h160v-160H400v160Zm0 220h160v-160H400v160ZM180-400h160v-160H180v160Zm440 0h160v-160H620v160ZM180-180h160v-160H180v160Zm440 0h160v-160H620v160Z\"/>\n",
              "  </svg>\n",
              "    </button>\n",
              "\n",
              "  <style>\n",
              "    .colab-df-container {\n",
              "      display:flex;\n",
              "      gap: 12px;\n",
              "    }\n",
              "\n",
              "    .colab-df-convert {\n",
              "      background-color: #E8F0FE;\n",
              "      border: none;\n",
              "      border-radius: 50%;\n",
              "      cursor: pointer;\n",
              "      display: none;\n",
              "      fill: #1967D2;\n",
              "      height: 32px;\n",
              "      padding: 0 0 0 0;\n",
              "      width: 32px;\n",
              "    }\n",
              "\n",
              "    .colab-df-convert:hover {\n",
              "      background-color: #E2EBFA;\n",
              "      box-shadow: 0px 1px 2px rgba(60, 64, 67, 0.3), 0px 1px 3px 1px rgba(60, 64, 67, 0.15);\n",
              "      fill: #174EA6;\n",
              "    }\n",
              "\n",
              "    .colab-df-buttons div {\n",
              "      margin-bottom: 4px;\n",
              "    }\n",
              "\n",
              "    [theme=dark] .colab-df-convert {\n",
              "      background-color: #3B4455;\n",
              "      fill: #D2E3FC;\n",
              "    }\n",
              "\n",
              "    [theme=dark] .colab-df-convert:hover {\n",
              "      background-color: #434B5C;\n",
              "      box-shadow: 0px 1px 3px 1px rgba(0, 0, 0, 0.15);\n",
              "      filter: drop-shadow(0px 1px 2px rgba(0, 0, 0, 0.3));\n",
              "      fill: #FFFFFF;\n",
              "    }\n",
              "  </style>\n",
              "\n",
              "    <script>\n",
              "      const buttonEl =\n",
              "        document.querySelector('#df-951a239d-67da-44db-b1bb-f35fc8351d5f button.colab-df-convert');\n",
              "      buttonEl.style.display =\n",
              "        google.colab.kernel.accessAllowed ? 'block' : 'none';\n",
              "\n",
              "      async function convertToInteractive(key) {\n",
              "        const element = document.querySelector('#df-951a239d-67da-44db-b1bb-f35fc8351d5f');\n",
              "        const dataTable =\n",
              "          await google.colab.kernel.invokeFunction('convertToInteractive',\n",
              "                                                    [key], {});\n",
              "        if (!dataTable) return;\n",
              "\n",
              "        const docLinkHtml = 'Like what you see? Visit the ' +\n",
              "          '<a target=\"_blank\" href=https://colab.research.google.com/notebooks/data_table.ipynb>data table notebook</a>'\n",
              "          + ' to learn more about interactive tables.';\n",
              "        element.innerHTML = '';\n",
              "        dataTable['output_type'] = 'display_data';\n",
              "        await google.colab.output.renderOutput(dataTable, element);\n",
              "        const docLink = document.createElement('div');\n",
              "        docLink.innerHTML = docLinkHtml;\n",
              "        element.appendChild(docLink);\n",
              "      }\n",
              "    </script>\n",
              "  </div>\n",
              "\n",
              "\n",
              "<div id=\"df-49f3b797-c578-4fd3-8ba1-bfafd8aac546\">\n",
              "  <button class=\"colab-df-quickchart\" onclick=\"quickchart('df-49f3b797-c578-4fd3-8ba1-bfafd8aac546')\"\n",
              "            title=\"Suggest charts\"\n",
              "            style=\"display:none;\">\n",
              "\n",
              "<svg xmlns=\"http://www.w3.org/2000/svg\" height=\"24px\"viewBox=\"0 0 24 24\"\n",
              "     width=\"24px\">\n",
              "    <g>\n",
              "        <path d=\"M19 3H5c-1.1 0-2 .9-2 2v14c0 1.1.9 2 2 2h14c1.1 0 2-.9 2-2V5c0-1.1-.9-2-2-2zM9 17H7v-7h2v7zm4 0h-2V7h2v10zm4 0h-2v-4h2v4z\"/>\n",
              "    </g>\n",
              "</svg>\n",
              "  </button>\n",
              "\n",
              "<style>\n",
              "  .colab-df-quickchart {\n",
              "      --bg-color: #E8F0FE;\n",
              "      --fill-color: #1967D2;\n",
              "      --hover-bg-color: #E2EBFA;\n",
              "      --hover-fill-color: #174EA6;\n",
              "      --disabled-fill-color: #AAA;\n",
              "      --disabled-bg-color: #DDD;\n",
              "  }\n",
              "\n",
              "  [theme=dark] .colab-df-quickchart {\n",
              "      --bg-color: #3B4455;\n",
              "      --fill-color: #D2E3FC;\n",
              "      --hover-bg-color: #434B5C;\n",
              "      --hover-fill-color: #FFFFFF;\n",
              "      --disabled-bg-color: #3B4455;\n",
              "      --disabled-fill-color: #666;\n",
              "  }\n",
              "\n",
              "  .colab-df-quickchart {\n",
              "    background-color: var(--bg-color);\n",
              "    border: none;\n",
              "    border-radius: 50%;\n",
              "    cursor: pointer;\n",
              "    display: none;\n",
              "    fill: var(--fill-color);\n",
              "    height: 32px;\n",
              "    padding: 0;\n",
              "    width: 32px;\n",
              "  }\n",
              "\n",
              "  .colab-df-quickchart:hover {\n",
              "    background-color: var(--hover-bg-color);\n",
              "    box-shadow: 0 1px 2px rgba(60, 64, 67, 0.3), 0 1px 3px 1px rgba(60, 64, 67, 0.15);\n",
              "    fill: var(--button-hover-fill-color);\n",
              "  }\n",
              "\n",
              "  .colab-df-quickchart-complete:disabled,\n",
              "  .colab-df-quickchart-complete:disabled:hover {\n",
              "    background-color: var(--disabled-bg-color);\n",
              "    fill: var(--disabled-fill-color);\n",
              "    box-shadow: none;\n",
              "  }\n",
              "\n",
              "  .colab-df-spinner {\n",
              "    border: 2px solid var(--fill-color);\n",
              "    border-color: transparent;\n",
              "    border-bottom-color: var(--fill-color);\n",
              "    animation:\n",
              "      spin 1s steps(1) infinite;\n",
              "  }\n",
              "\n",
              "  @keyframes spin {\n",
              "    0% {\n",
              "      border-color: transparent;\n",
              "      border-bottom-color: var(--fill-color);\n",
              "      border-left-color: var(--fill-color);\n",
              "    }\n",
              "    20% {\n",
              "      border-color: transparent;\n",
              "      border-left-color: var(--fill-color);\n",
              "      border-top-color: var(--fill-color);\n",
              "    }\n",
              "    30% {\n",
              "      border-color: transparent;\n",
              "      border-left-color: var(--fill-color);\n",
              "      border-top-color: var(--fill-color);\n",
              "      border-right-color: var(--fill-color);\n",
              "    }\n",
              "    40% {\n",
              "      border-color: transparent;\n",
              "      border-right-color: var(--fill-color);\n",
              "      border-top-color: var(--fill-color);\n",
              "    }\n",
              "    60% {\n",
              "      border-color: transparent;\n",
              "      border-right-color: var(--fill-color);\n",
              "    }\n",
              "    80% {\n",
              "      border-color: transparent;\n",
              "      border-right-color: var(--fill-color);\n",
              "      border-bottom-color: var(--fill-color);\n",
              "    }\n",
              "    90% {\n",
              "      border-color: transparent;\n",
              "      border-bottom-color: var(--fill-color);\n",
              "    }\n",
              "  }\n",
              "</style>\n",
              "\n",
              "  <script>\n",
              "    async function quickchart(key) {\n",
              "      const quickchartButtonEl =\n",
              "        document.querySelector('#' + key + ' button');\n",
              "      quickchartButtonEl.disabled = true;  // To prevent multiple clicks.\n",
              "      quickchartButtonEl.classList.add('colab-df-spinner');\n",
              "      try {\n",
              "        const charts = await google.colab.kernel.invokeFunction(\n",
              "            'suggestCharts', [key], {});\n",
              "      } catch (error) {\n",
              "        console.error('Error during call to suggestCharts:', error);\n",
              "      }\n",
              "      quickchartButtonEl.classList.remove('colab-df-spinner');\n",
              "      quickchartButtonEl.classList.add('colab-df-quickchart-complete');\n",
              "    }\n",
              "    (() => {\n",
              "      let quickchartButtonEl =\n",
              "        document.querySelector('#df-49f3b797-c578-4fd3-8ba1-bfafd8aac546 button');\n",
              "      quickchartButtonEl.style.display =\n",
              "        google.colab.kernel.accessAllowed ? 'block' : 'none';\n",
              "    })();\n",
              "  </script>\n",
              "</div>\n",
              "    </div>\n",
              "  </div>\n"
            ]
          },
          "metadata": {},
          "execution_count": 60
        }
      ]
    },
    {
      "cell_type": "code",
      "source": [
        "model_1_predictions = model_1.predict(input_1[:5])\n",
        "model_1_predictions = model_1_predictions.astype(int)\n",
        "print(model_1_predictions)"
      ],
      "metadata": {
        "colab": {
          "base_uri": "https://localhost:8080/"
        },
        "id": "txGaqkenhXAg",
        "outputId": "0354546e-4cb8-472a-9456-10028d758a18"
      },
      "execution_count": null,
      "outputs": [
        {
          "output_type": "stream",
          "name": "stdout",
          "text": [
            "1/1 [==============================] - 0s 55ms/step\n",
            "[[563]\n",
            " [578]\n",
            " [518]\n",
            " [489]\n",
            " [563]]\n"
          ]
        }
      ]
    },
    {
      "cell_type": "markdown",
      "source": [
        "##Model 2 - Day Only with Normalised Collision Values"
      ],
      "metadata": {
        "id": "4eGX8Ikv0c4Q"
      }
    },
    {
      "cell_type": "markdown",
      "source": [
        "Create new dataframe."
      ],
      "metadata": {
        "id": "mJzrdapt0c4X"
      }
    },
    {
      "cell_type": "code",
      "source": [
        "#create dataframe with inputs and output from imported dataframe.\n",
        "input_data_day_stan = [shuffle_stan[\"day_num\"], shuffle_stan[\"num_collisions\"]]\n",
        "#create headers for the new dataframe.\n",
        "input_headers_day_stan = [\"day_num\", \"num_collisions\"]\n",
        "#create final dataframe by concatenating new dataframe and headers.\n",
        "input_day_stan = pd.concat(input_data_day_stan, axis=1, keys=input_headers_day_stan)"
      ],
      "metadata": {
        "id": "Irf65ahx0c4Y"
      },
      "execution_count": null,
      "outputs": []
    },
    {
      "cell_type": "markdown",
      "source": [
        "Construct training data."
      ],
      "metadata": {
        "id": "BUVtQLYt0c4Y"
      }
    },
    {
      "cell_type": "code",
      "source": [
        "#construct training set and test set (with 0.8 for an 80% training set and 20% for test)\n",
        "training_set_day_stan = input_day_stan.sample(frac=0.8, random_state=0)\n",
        "test_set_day_stan = input_day_stan.drop(training_set_day_stan.index)"
      ],
      "metadata": {
        "id": "OtKyEWcV0c4Y"
      },
      "execution_count": null,
      "outputs": []
    },
    {
      "cell_type": "markdown",
      "source": [
        "Copy the datasets and remove output variable."
      ],
      "metadata": {
        "id": "qLsklbwS0c4Y"
      }
    },
    {
      "cell_type": "code",
      "source": [
        "#copy datasets and remove output variable\n",
        "training_features_day_stan = training_set_day_stan.copy()\n",
        "test_features_day_stan = test_set_day_stan.copy()\n",
        "\n",
        "training_labels_day_stan = training_features_day_stan.pop('num_collisions')\n",
        "test_labels_day_stan = test_features_day_stan.pop('num_collisions')"
      ],
      "metadata": {
        "id": "b4mBaR5I0c4Z"
      },
      "execution_count": null,
      "outputs": []
    },
    {
      "cell_type": "code",
      "source": [
        "print(training_features_day_stan)"
      ],
      "metadata": {
        "colab": {
          "base_uri": "https://localhost:8080/"
        },
        "outputId": "461db94c-86a0-4ed1-93ba-b13f5c3d19e4",
        "id": "K1FgYkfP0c4Z"
      },
      "execution_count": null,
      "outputs": [
        {
          "output_type": "stream",
          "name": "stdout",
          "text": [
            "      day_num\n",
            "2483        5\n",
            "3019        5\n",
            "1946        5\n",
            "619         5\n",
            "1312        4\n",
            "...       ...\n",
            "947         5\n",
            "2794        4\n",
            "4085        4\n",
            "1021        7\n",
            "491         3\n",
            "\n",
            "[2222 rows x 1 columns]\n"
          ]
        }
      ]
    },
    {
      "cell_type": "markdown",
      "source": [
        "###Train the model 2"
      ],
      "metadata": {
        "id": "_0oUMjU60c4a"
      }
    },
    {
      "cell_type": "code",
      "source": [
        "model_2 = tf.keras.Sequential([\n",
        "    layers.Dense(units=1)\n",
        "])"
      ],
      "metadata": {
        "id": "9d6NP9WY0c4a"
      },
      "execution_count": null,
      "outputs": []
    },
    {
      "cell_type": "code",
      "source": [
        "model_2.compile(\n",
        "    optimizer=tf.optimizers.Adam(learning_rate=0.1),\n",
        "    loss='mean_absolute_error')"
      ],
      "metadata": {
        "id": "rxo0mPFg0c4a"
      },
      "execution_count": null,
      "outputs": []
    },
    {
      "cell_type": "code",
      "source": [
        "#fit model\n",
        "#run 100 times (epochs) and apply further 20% validation split.\n",
        "\n",
        "%%time\n",
        "history = model_2.fit(\n",
        "    training_features_day_stan,\n",
        "    training_labels_day_stan,\n",
        "    epochs=100,\n",
        "    verbose=0,\n",
        "    validation_split = 0.2)"
      ],
      "metadata": {
        "colab": {
          "base_uri": "https://localhost:8080/"
        },
        "outputId": "6b69c4e4-0eb9-43bc-c2e7-0d7f5d7fb91c",
        "id": "Vs1sb-6M0c4a"
      },
      "execution_count": null,
      "outputs": [
        {
          "output_type": "stream",
          "name": "stdout",
          "text": [
            "CPU times: user 13.1 s, sys: 634 ms, total: 13.7 s\n",
            "Wall time: 21.1 s\n"
          ]
        }
      ]
    },
    {
      "cell_type": "markdown",
      "source": [
        "###Evaluate Model 2"
      ],
      "metadata": {
        "id": "e5aYIghbXxvp"
      }
    },
    {
      "cell_type": "code",
      "source": [
        "#evaluate model using test features and labels.\n",
        "mean_absolute_error_model_2 = model_2.evaluate(\n",
        "    test_features_day_stan,\n",
        "    test_labels_day_stan, verbose=0)"
      ],
      "metadata": {
        "id": "vMmQ1xQB0c4a"
      },
      "execution_count": null,
      "outputs": []
    },
    {
      "cell_type": "code",
      "source": [
        "#print out mean absolute error\n",
        "print(mean_absolute_error_model_2)"
      ],
      "metadata": {
        "colab": {
          "base_uri": "https://localhost:8080/"
        },
        "outputId": "b79d8cd8-2bf4-41d9-c092-328f20e5bcff",
        "id": "Tz7aklMe0c4a"
      },
      "execution_count": null,
      "outputs": [
        {
          "output_type": "stream",
          "name": "stdout",
          "text": [
            "0.14864429831504822\n"
          ]
        }
      ]
    },
    {
      "cell_type": "markdown",
      "source": [
        "###Predictions for Model 2"
      ],
      "metadata": {
        "id": "YNcFs6-uQNnC"
      }
    },
    {
      "cell_type": "code",
      "source": [
        "#create custom dataframe with 5 dummy values\n",
        "input_2 = pd.DataFrame.from_dict(data =\n",
        "\t\t\t\t{\n",
        "            'day_num' : [3,4,6,1,7]\n",
        "        })"
      ],
      "metadata": {
        "id": "cvQ0imkgQQOK"
      },
      "execution_count": null,
      "outputs": []
    },
    {
      "cell_type": "code",
      "source": [
        "input_2.head()"
      ],
      "metadata": {
        "colab": {
          "base_uri": "https://localhost:8080/",
          "height": 206
        },
        "id": "LAcoEtG9QWRD",
        "outputId": "cdb6b408-d163-4854-8c87-33031b9490ea"
      },
      "execution_count": null,
      "outputs": [
        {
          "output_type": "execute_result",
          "data": {
            "text/plain": [
              "   day_num\n",
              "0        3\n",
              "1        4\n",
              "2        6\n",
              "3        1\n",
              "4        7"
            ],
            "text/html": [
              "\n",
              "  <div id=\"df-f2f74083-3abd-4624-b260-26d7bae99676\" class=\"colab-df-container\">\n",
              "    <div>\n",
              "<style scoped>\n",
              "    .dataframe tbody tr th:only-of-type {\n",
              "        vertical-align: middle;\n",
              "    }\n",
              "\n",
              "    .dataframe tbody tr th {\n",
              "        vertical-align: top;\n",
              "    }\n",
              "\n",
              "    .dataframe thead th {\n",
              "        text-align: right;\n",
              "    }\n",
              "</style>\n",
              "<table border=\"1\" class=\"dataframe\">\n",
              "  <thead>\n",
              "    <tr style=\"text-align: right;\">\n",
              "      <th></th>\n",
              "      <th>day_num</th>\n",
              "    </tr>\n",
              "  </thead>\n",
              "  <tbody>\n",
              "    <tr>\n",
              "      <th>0</th>\n",
              "      <td>3</td>\n",
              "    </tr>\n",
              "    <tr>\n",
              "      <th>1</th>\n",
              "      <td>4</td>\n",
              "    </tr>\n",
              "    <tr>\n",
              "      <th>2</th>\n",
              "      <td>6</td>\n",
              "    </tr>\n",
              "    <tr>\n",
              "      <th>3</th>\n",
              "      <td>1</td>\n",
              "    </tr>\n",
              "    <tr>\n",
              "      <th>4</th>\n",
              "      <td>7</td>\n",
              "    </tr>\n",
              "  </tbody>\n",
              "</table>\n",
              "</div>\n",
              "    <div class=\"colab-df-buttons\">\n",
              "\n",
              "  <div class=\"colab-df-container\">\n",
              "    <button class=\"colab-df-convert\" onclick=\"convertToInteractive('df-f2f74083-3abd-4624-b260-26d7bae99676')\"\n",
              "            title=\"Convert this dataframe to an interactive table.\"\n",
              "            style=\"display:none;\">\n",
              "\n",
              "  <svg xmlns=\"http://www.w3.org/2000/svg\" height=\"24px\" viewBox=\"0 -960 960 960\">\n",
              "    <path d=\"M120-120v-720h720v720H120Zm60-500h600v-160H180v160Zm220 220h160v-160H400v160Zm0 220h160v-160H400v160ZM180-400h160v-160H180v160Zm440 0h160v-160H620v160ZM180-180h160v-160H180v160Zm440 0h160v-160H620v160Z\"/>\n",
              "  </svg>\n",
              "    </button>\n",
              "\n",
              "  <style>\n",
              "    .colab-df-container {\n",
              "      display:flex;\n",
              "      gap: 12px;\n",
              "    }\n",
              "\n",
              "    .colab-df-convert {\n",
              "      background-color: #E8F0FE;\n",
              "      border: none;\n",
              "      border-radius: 50%;\n",
              "      cursor: pointer;\n",
              "      display: none;\n",
              "      fill: #1967D2;\n",
              "      height: 32px;\n",
              "      padding: 0 0 0 0;\n",
              "      width: 32px;\n",
              "    }\n",
              "\n",
              "    .colab-df-convert:hover {\n",
              "      background-color: #E2EBFA;\n",
              "      box-shadow: 0px 1px 2px rgba(60, 64, 67, 0.3), 0px 1px 3px 1px rgba(60, 64, 67, 0.15);\n",
              "      fill: #174EA6;\n",
              "    }\n",
              "\n",
              "    .colab-df-buttons div {\n",
              "      margin-bottom: 4px;\n",
              "    }\n",
              "\n",
              "    [theme=dark] .colab-df-convert {\n",
              "      background-color: #3B4455;\n",
              "      fill: #D2E3FC;\n",
              "    }\n",
              "\n",
              "    [theme=dark] .colab-df-convert:hover {\n",
              "      background-color: #434B5C;\n",
              "      box-shadow: 0px 1px 3px 1px rgba(0, 0, 0, 0.15);\n",
              "      filter: drop-shadow(0px 1px 2px rgba(0, 0, 0, 0.3));\n",
              "      fill: #FFFFFF;\n",
              "    }\n",
              "  </style>\n",
              "\n",
              "    <script>\n",
              "      const buttonEl =\n",
              "        document.querySelector('#df-f2f74083-3abd-4624-b260-26d7bae99676 button.colab-df-convert');\n",
              "      buttonEl.style.display =\n",
              "        google.colab.kernel.accessAllowed ? 'block' : 'none';\n",
              "\n",
              "      async function convertToInteractive(key) {\n",
              "        const element = document.querySelector('#df-f2f74083-3abd-4624-b260-26d7bae99676');\n",
              "        const dataTable =\n",
              "          await google.colab.kernel.invokeFunction('convertToInteractive',\n",
              "                                                    [key], {});\n",
              "        if (!dataTable) return;\n",
              "\n",
              "        const docLinkHtml = 'Like what you see? Visit the ' +\n",
              "          '<a target=\"_blank\" href=https://colab.research.google.com/notebooks/data_table.ipynb>data table notebook</a>'\n",
              "          + ' to learn more about interactive tables.';\n",
              "        element.innerHTML = '';\n",
              "        dataTable['output_type'] = 'display_data';\n",
              "        await google.colab.output.renderOutput(dataTable, element);\n",
              "        const docLink = document.createElement('div');\n",
              "        docLink.innerHTML = docLinkHtml;\n",
              "        element.appendChild(docLink);\n",
              "      }\n",
              "    </script>\n",
              "  </div>\n",
              "\n",
              "\n",
              "<div id=\"df-65e11d26-fd6f-4ae8-b44d-ee844a659a17\">\n",
              "  <button class=\"colab-df-quickchart\" onclick=\"quickchart('df-65e11d26-fd6f-4ae8-b44d-ee844a659a17')\"\n",
              "            title=\"Suggest charts\"\n",
              "            style=\"display:none;\">\n",
              "\n",
              "<svg xmlns=\"http://www.w3.org/2000/svg\" height=\"24px\"viewBox=\"0 0 24 24\"\n",
              "     width=\"24px\">\n",
              "    <g>\n",
              "        <path d=\"M19 3H5c-1.1 0-2 .9-2 2v14c0 1.1.9 2 2 2h14c1.1 0 2-.9 2-2V5c0-1.1-.9-2-2-2zM9 17H7v-7h2v7zm4 0h-2V7h2v10zm4 0h-2v-4h2v4z\"/>\n",
              "    </g>\n",
              "</svg>\n",
              "  </button>\n",
              "\n",
              "<style>\n",
              "  .colab-df-quickchart {\n",
              "      --bg-color: #E8F0FE;\n",
              "      --fill-color: #1967D2;\n",
              "      --hover-bg-color: #E2EBFA;\n",
              "      --hover-fill-color: #174EA6;\n",
              "      --disabled-fill-color: #AAA;\n",
              "      --disabled-bg-color: #DDD;\n",
              "  }\n",
              "\n",
              "  [theme=dark] .colab-df-quickchart {\n",
              "      --bg-color: #3B4455;\n",
              "      --fill-color: #D2E3FC;\n",
              "      --hover-bg-color: #434B5C;\n",
              "      --hover-fill-color: #FFFFFF;\n",
              "      --disabled-bg-color: #3B4455;\n",
              "      --disabled-fill-color: #666;\n",
              "  }\n",
              "\n",
              "  .colab-df-quickchart {\n",
              "    background-color: var(--bg-color);\n",
              "    border: none;\n",
              "    border-radius: 50%;\n",
              "    cursor: pointer;\n",
              "    display: none;\n",
              "    fill: var(--fill-color);\n",
              "    height: 32px;\n",
              "    padding: 0;\n",
              "    width: 32px;\n",
              "  }\n",
              "\n",
              "  .colab-df-quickchart:hover {\n",
              "    background-color: var(--hover-bg-color);\n",
              "    box-shadow: 0 1px 2px rgba(60, 64, 67, 0.3), 0 1px 3px 1px rgba(60, 64, 67, 0.15);\n",
              "    fill: var(--button-hover-fill-color);\n",
              "  }\n",
              "\n",
              "  .colab-df-quickchart-complete:disabled,\n",
              "  .colab-df-quickchart-complete:disabled:hover {\n",
              "    background-color: var(--disabled-bg-color);\n",
              "    fill: var(--disabled-fill-color);\n",
              "    box-shadow: none;\n",
              "  }\n",
              "\n",
              "  .colab-df-spinner {\n",
              "    border: 2px solid var(--fill-color);\n",
              "    border-color: transparent;\n",
              "    border-bottom-color: var(--fill-color);\n",
              "    animation:\n",
              "      spin 1s steps(1) infinite;\n",
              "  }\n",
              "\n",
              "  @keyframes spin {\n",
              "    0% {\n",
              "      border-color: transparent;\n",
              "      border-bottom-color: var(--fill-color);\n",
              "      border-left-color: var(--fill-color);\n",
              "    }\n",
              "    20% {\n",
              "      border-color: transparent;\n",
              "      border-left-color: var(--fill-color);\n",
              "      border-top-color: var(--fill-color);\n",
              "    }\n",
              "    30% {\n",
              "      border-color: transparent;\n",
              "      border-left-color: var(--fill-color);\n",
              "      border-top-color: var(--fill-color);\n",
              "      border-right-color: var(--fill-color);\n",
              "    }\n",
              "    40% {\n",
              "      border-color: transparent;\n",
              "      border-right-color: var(--fill-color);\n",
              "      border-top-color: var(--fill-color);\n",
              "    }\n",
              "    60% {\n",
              "      border-color: transparent;\n",
              "      border-right-color: var(--fill-color);\n",
              "    }\n",
              "    80% {\n",
              "      border-color: transparent;\n",
              "      border-right-color: var(--fill-color);\n",
              "      border-bottom-color: var(--fill-color);\n",
              "    }\n",
              "    90% {\n",
              "      border-color: transparent;\n",
              "      border-bottom-color: var(--fill-color);\n",
              "    }\n",
              "  }\n",
              "</style>\n",
              "\n",
              "  <script>\n",
              "    async function quickchart(key) {\n",
              "      const quickchartButtonEl =\n",
              "        document.querySelector('#' + key + ' button');\n",
              "      quickchartButtonEl.disabled = true;  // To prevent multiple clicks.\n",
              "      quickchartButtonEl.classList.add('colab-df-spinner');\n",
              "      try {\n",
              "        const charts = await google.colab.kernel.invokeFunction(\n",
              "            'suggestCharts', [key], {});\n",
              "      } catch (error) {\n",
              "        console.error('Error during call to suggestCharts:', error);\n",
              "      }\n",
              "      quickchartButtonEl.classList.remove('colab-df-spinner');\n",
              "      quickchartButtonEl.classList.add('colab-df-quickchart-complete');\n",
              "    }\n",
              "    (() => {\n",
              "      let quickchartButtonEl =\n",
              "        document.querySelector('#df-65e11d26-fd6f-4ae8-b44d-ee844a659a17 button');\n",
              "      quickchartButtonEl.style.display =\n",
              "        google.colab.kernel.accessAllowed ? 'block' : 'none';\n",
              "    })();\n",
              "  </script>\n",
              "</div>\n",
              "    </div>\n",
              "  </div>\n"
            ]
          },
          "metadata": {},
          "execution_count": 72
        }
      ]
    },
    {
      "cell_type": "code",
      "source": [
        "\n",
        "model_2_predictions = model_2.predict(input_2[:5])\n",
        "\n",
        "print(\"\\n\\nNormalised:\\n\", model_2_predictions)\n",
        "\n",
        "SCALE_NUM_COLL = 1.0\n",
        "\n",
        "min_val = 353\n",
        "max_val = 845\n",
        "\n",
        "unnormalised_predictions_2 = model_2_predictions / SCALE_NUM_COLL * (max_val - min_val) + min_val\n",
        "\n",
        "unnormalised_predictions_2 = unnormalised_predictions_2.astype(int)\n",
        "\n",
        "print(\"\\nAbsolute Values:\\n\", unnormalised_predictions_2)\n",
        "\n"
      ],
      "metadata": {
        "colab": {
          "base_uri": "https://localhost:8080/"
        },
        "id": "kYJqdcdcQr2f",
        "outputId": "d43e808f-dfd3-40cf-f017-cd62924ad942"
      },
      "execution_count": null,
      "outputs": [
        {
          "output_type": "stream",
          "name": "stderr",
          "text": [
            "WARNING:tensorflow:5 out of the last 5 calls to <function Model.make_predict_function.<locals>.predict_function at 0x7b80ba686a70> triggered tf.function retracing. Tracing is expensive and the excessive number of tracings could be due to (1) creating @tf.function repeatedly in a loop, (2) passing tensors with different shapes, (3) passing Python objects instead of tensors. For (1), please define your @tf.function outside of the loop. For (2), @tf.function has reduce_retracing=True option that can avoid unnecessary retracing. For (3), please refer to https://www.tensorflow.org/guide/function#controlling_retracing and https://www.tensorflow.org/api_docs/python/tf/function for  more details.\n"
          ]
        },
        {
          "output_type": "stream",
          "name": "stdout",
          "text": [
            "1/1 [==============================] - 0s 47ms/step\n",
            "\n",
            "\n",
            "Normalised:\n",
            " [[0.47863847]\n",
            " [0.44864917]\n",
            " [0.38867053]\n",
            " [0.53861713]\n",
            " [0.3586812 ]]\n",
            "\n",
            "Absolute Values:\n",
            " [[588]\n",
            " [573]\n",
            " [544]\n",
            " [617]\n",
            " [529]]\n"
          ]
        }
      ]
    },
    {
      "cell_type": "markdown",
      "source": [
        "##Model 3 - Day and Weather (Standardised) with Normalised Collisions Values"
      ],
      "metadata": {
        "id": "MZfXLljn3M8e"
      }
    },
    {
      "cell_type": "markdown",
      "source": [
        "Create new dataframe."
      ],
      "metadata": {
        "id": "UFFQnmIB3M8m"
      }
    },
    {
      "cell_type": "code",
      "source": [
        "#create dataframe with inputs and output from imported dataframe.\n",
        "input_data_stan = [shuffle_stan[\"day_num\"], shuffle_stan[\"max_temp_standardised\"], shuffle_stan[\"num_collisions\"]]\n",
        "#create headers for the new dataframe.\n",
        "input_headers_stan = [\"day_num\", \"max_temp_standardised\", \"num_collisions\"]\n",
        "#create final dataframe by concatenating new dataframe and headers.\n",
        "input_stan = pd.concat(input_data_stan, axis=1, keys=input_headers_stan)"
      ],
      "metadata": {
        "id": "tS0FemEU3M8m"
      },
      "execution_count": null,
      "outputs": []
    },
    {
      "cell_type": "markdown",
      "source": [
        "Construct training data."
      ],
      "metadata": {
        "id": "yinoPW8h3M8m"
      }
    },
    {
      "cell_type": "code",
      "source": [
        "#construct training set and test set (with 0.8 for an 80% training set and 20% for test)\n",
        "training_set_stan = input_stan.sample(frac=0.8, random_state=0)\n",
        "test_set_stan = input_stan.drop(training_set_stan.index)"
      ],
      "metadata": {
        "id": "0HM1cM-43M8m"
      },
      "execution_count": null,
      "outputs": []
    },
    {
      "cell_type": "markdown",
      "source": [
        "Copy the datasets and remove output variable."
      ],
      "metadata": {
        "id": "y2AOKHj33M8m"
      }
    },
    {
      "cell_type": "code",
      "source": [
        "#copy datasets and remove output variable\n",
        "training_features_stan = training_set_stan.copy()\n",
        "test_features_stan = test_set_stan.copy()\n",
        "\n",
        "training_labels_stan = training_features_stan.pop('num_collisions')\n",
        "test_labels_stan = test_features_stan.pop('num_collisions')"
      ],
      "metadata": {
        "id": "3FkbHg5G3M8m"
      },
      "execution_count": null,
      "outputs": []
    },
    {
      "cell_type": "code",
      "source": [
        "print(training_features_stan)"
      ],
      "metadata": {
        "colab": {
          "base_uri": "https://localhost:8080/"
        },
        "outputId": "d98c381f-cca4-42eb-9416-17b6b203fc34",
        "id": "oLmAZR2h3M8m"
      },
      "execution_count": null,
      "outputs": [
        {
          "output_type": "stream",
          "name": "stdout",
          "text": [
            "      day_num  max_temp_standardised\n",
            "2483        5               1.100249\n",
            "3019        5               1.553129\n",
            "1946        5               1.273574\n",
            "619         5              -1.180924\n",
            "1312        4              -0.521173\n",
            "...       ...                    ...\n",
            "947         5              -0.962871\n",
            "2794        4               1.553129\n",
            "4085        4              -0.627404\n",
            "1021        7               0.043529\n",
            "491         3              -2.187324\n",
            "\n",
            "[2222 rows x 2 columns]\n"
          ]
        }
      ]
    },
    {
      "cell_type": "markdown",
      "source": [
        "###Train model 3"
      ],
      "metadata": {
        "id": "glYaKI-D3M8n"
      }
    },
    {
      "cell_type": "code",
      "source": [
        "model_3 = tf.keras.Sequential([\n",
        "    layers.Dense(units=1)\n",
        "])"
      ],
      "metadata": {
        "id": "n7OTe9zn3M8n"
      },
      "execution_count": null,
      "outputs": []
    },
    {
      "cell_type": "code",
      "source": [
        "model_3.compile(\n",
        "    optimizer=tf.optimizers.Adam(learning_rate=0.1),\n",
        "    loss='mean_absolute_error')"
      ],
      "metadata": {
        "id": "HKt2UWLg3M8n"
      },
      "execution_count": null,
      "outputs": []
    },
    {
      "cell_type": "code",
      "source": [
        "#fit model\n",
        "#run 100 times (epochs) and apply further 20% validation split.\n",
        "\n",
        "%%time\n",
        "history = model_3.fit(\n",
        "    training_features_stan,\n",
        "    training_labels_stan,\n",
        "    epochs=100,\n",
        "    verbose=0,\n",
        "    validation_split = 0.2)"
      ],
      "metadata": {
        "colab": {
          "base_uri": "https://localhost:8080/"
        },
        "outputId": "f12c9715-25f3-4194-9224-b5564502526f",
        "id": "0j9GTCdj3M8n"
      },
      "execution_count": null,
      "outputs": [
        {
          "output_type": "stream",
          "name": "stdout",
          "text": [
            "CPU times: user 13.4 s, sys: 636 ms, total: 14.1 s\n",
            "Wall time: 13.2 s\n"
          ]
        }
      ]
    },
    {
      "cell_type": "markdown",
      "source": [
        "###Evaluate Model 3"
      ],
      "metadata": {
        "id": "yNaOvoxiRMcM"
      }
    },
    {
      "cell_type": "code",
      "source": [
        "#evaluate model using test features and labels.\n",
        "mean_absolute_error_model_3 = model_3.evaluate(\n",
        "    test_features_stan,\n",
        "    test_labels_stan, verbose=0)"
      ],
      "metadata": {
        "id": "nHMrmwCY3M8n"
      },
      "execution_count": null,
      "outputs": []
    },
    {
      "cell_type": "code",
      "source": [
        "#print out mean absolute error\n",
        "print(mean_absolute_error_model_3)"
      ],
      "metadata": {
        "colab": {
          "base_uri": "https://localhost:8080/"
        },
        "outputId": "d08cd659-aef5-4117-c35a-2750631a47c3",
        "id": "SQ88HV3m3M8n"
      },
      "execution_count": null,
      "outputs": [
        {
          "output_type": "stream",
          "name": "stdout",
          "text": [
            "0.16116999089717865\n"
          ]
        }
      ]
    },
    {
      "cell_type": "markdown",
      "source": [
        "###Predictions for Model 3"
      ],
      "metadata": {
        "id": "KmUBU9QxRHiY"
      }
    },
    {
      "cell_type": "code",
      "source": [
        "#create custom dataframe with 5 dummy values for each input column\n",
        "input_3 = pd.DataFrame.from_dict(data =\n",
        "\t\t\t\t{\n",
        "            'day_num' : [7,1,3,6,5],\n",
        "             'max_temp_standardised' : [1.391727, 1.539546, -0.063549, -1.213534, -0.113404,]\n",
        "        })"
      ],
      "metadata": {
        "id": "PEP3I06PRPRI"
      },
      "execution_count": null,
      "outputs": []
    },
    {
      "cell_type": "code",
      "source": [
        "input_3.head()"
      ],
      "metadata": {
        "colab": {
          "base_uri": "https://localhost:8080/",
          "height": 206
        },
        "id": "XlqFCtk7Rlr0",
        "outputId": "1f496d4c-0de9-4262-c098-3a389c146ad0"
      },
      "execution_count": null,
      "outputs": [
        {
          "output_type": "execute_result",
          "data": {
            "text/plain": [
              "   day_num  max_temp_standardised\n",
              "0        7               1.391727\n",
              "1        1               1.539546\n",
              "2        3              -0.063549\n",
              "3        6              -1.213534\n",
              "4        5              -0.113404"
            ],
            "text/html": [
              "\n",
              "  <div id=\"df-25273a15-5fe9-4ef8-b221-2c67fa4c3eaa\" class=\"colab-df-container\">\n",
              "    <div>\n",
              "<style scoped>\n",
              "    .dataframe tbody tr th:only-of-type {\n",
              "        vertical-align: middle;\n",
              "    }\n",
              "\n",
              "    .dataframe tbody tr th {\n",
              "        vertical-align: top;\n",
              "    }\n",
              "\n",
              "    .dataframe thead th {\n",
              "        text-align: right;\n",
              "    }\n",
              "</style>\n",
              "<table border=\"1\" class=\"dataframe\">\n",
              "  <thead>\n",
              "    <tr style=\"text-align: right;\">\n",
              "      <th></th>\n",
              "      <th>day_num</th>\n",
              "      <th>max_temp_standardised</th>\n",
              "    </tr>\n",
              "  </thead>\n",
              "  <tbody>\n",
              "    <tr>\n",
              "      <th>0</th>\n",
              "      <td>7</td>\n",
              "      <td>1.391727</td>\n",
              "    </tr>\n",
              "    <tr>\n",
              "      <th>1</th>\n",
              "      <td>1</td>\n",
              "      <td>1.539546</td>\n",
              "    </tr>\n",
              "    <tr>\n",
              "      <th>2</th>\n",
              "      <td>3</td>\n",
              "      <td>-0.063549</td>\n",
              "    </tr>\n",
              "    <tr>\n",
              "      <th>3</th>\n",
              "      <td>6</td>\n",
              "      <td>-1.213534</td>\n",
              "    </tr>\n",
              "    <tr>\n",
              "      <th>4</th>\n",
              "      <td>5</td>\n",
              "      <td>-0.113404</td>\n",
              "    </tr>\n",
              "  </tbody>\n",
              "</table>\n",
              "</div>\n",
              "    <div class=\"colab-df-buttons\">\n",
              "\n",
              "  <div class=\"colab-df-container\">\n",
              "    <button class=\"colab-df-convert\" onclick=\"convertToInteractive('df-25273a15-5fe9-4ef8-b221-2c67fa4c3eaa')\"\n",
              "            title=\"Convert this dataframe to an interactive table.\"\n",
              "            style=\"display:none;\">\n",
              "\n",
              "  <svg xmlns=\"http://www.w3.org/2000/svg\" height=\"24px\" viewBox=\"0 -960 960 960\">\n",
              "    <path d=\"M120-120v-720h720v720H120Zm60-500h600v-160H180v160Zm220 220h160v-160H400v160Zm0 220h160v-160H400v160ZM180-400h160v-160H180v160Zm440 0h160v-160H620v160ZM180-180h160v-160H180v160Zm440 0h160v-160H620v160Z\"/>\n",
              "  </svg>\n",
              "    </button>\n",
              "\n",
              "  <style>\n",
              "    .colab-df-container {\n",
              "      display:flex;\n",
              "      gap: 12px;\n",
              "    }\n",
              "\n",
              "    .colab-df-convert {\n",
              "      background-color: #E8F0FE;\n",
              "      border: none;\n",
              "      border-radius: 50%;\n",
              "      cursor: pointer;\n",
              "      display: none;\n",
              "      fill: #1967D2;\n",
              "      height: 32px;\n",
              "      padding: 0 0 0 0;\n",
              "      width: 32px;\n",
              "    }\n",
              "\n",
              "    .colab-df-convert:hover {\n",
              "      background-color: #E2EBFA;\n",
              "      box-shadow: 0px 1px 2px rgba(60, 64, 67, 0.3), 0px 1px 3px 1px rgba(60, 64, 67, 0.15);\n",
              "      fill: #174EA6;\n",
              "    }\n",
              "\n",
              "    .colab-df-buttons div {\n",
              "      margin-bottom: 4px;\n",
              "    }\n",
              "\n",
              "    [theme=dark] .colab-df-convert {\n",
              "      background-color: #3B4455;\n",
              "      fill: #D2E3FC;\n",
              "    }\n",
              "\n",
              "    [theme=dark] .colab-df-convert:hover {\n",
              "      background-color: #434B5C;\n",
              "      box-shadow: 0px 1px 3px 1px rgba(0, 0, 0, 0.15);\n",
              "      filter: drop-shadow(0px 1px 2px rgba(0, 0, 0, 0.3));\n",
              "      fill: #FFFFFF;\n",
              "    }\n",
              "  </style>\n",
              "\n",
              "    <script>\n",
              "      const buttonEl =\n",
              "        document.querySelector('#df-25273a15-5fe9-4ef8-b221-2c67fa4c3eaa button.colab-df-convert');\n",
              "      buttonEl.style.display =\n",
              "        google.colab.kernel.accessAllowed ? 'block' : 'none';\n",
              "\n",
              "      async function convertToInteractive(key) {\n",
              "        const element = document.querySelector('#df-25273a15-5fe9-4ef8-b221-2c67fa4c3eaa');\n",
              "        const dataTable =\n",
              "          await google.colab.kernel.invokeFunction('convertToInteractive',\n",
              "                                                    [key], {});\n",
              "        if (!dataTable) return;\n",
              "\n",
              "        const docLinkHtml = 'Like what you see? Visit the ' +\n",
              "          '<a target=\"_blank\" href=https://colab.research.google.com/notebooks/data_table.ipynb>data table notebook</a>'\n",
              "          + ' to learn more about interactive tables.';\n",
              "        element.innerHTML = '';\n",
              "        dataTable['output_type'] = 'display_data';\n",
              "        await google.colab.output.renderOutput(dataTable, element);\n",
              "        const docLink = document.createElement('div');\n",
              "        docLink.innerHTML = docLinkHtml;\n",
              "        element.appendChild(docLink);\n",
              "      }\n",
              "    </script>\n",
              "  </div>\n",
              "\n",
              "\n",
              "<div id=\"df-6a21c81d-5882-427f-b1b7-e42de7eb4f74\">\n",
              "  <button class=\"colab-df-quickchart\" onclick=\"quickchart('df-6a21c81d-5882-427f-b1b7-e42de7eb4f74')\"\n",
              "            title=\"Suggest charts\"\n",
              "            style=\"display:none;\">\n",
              "\n",
              "<svg xmlns=\"http://www.w3.org/2000/svg\" height=\"24px\"viewBox=\"0 0 24 24\"\n",
              "     width=\"24px\">\n",
              "    <g>\n",
              "        <path d=\"M19 3H5c-1.1 0-2 .9-2 2v14c0 1.1.9 2 2 2h14c1.1 0 2-.9 2-2V5c0-1.1-.9-2-2-2zM9 17H7v-7h2v7zm4 0h-2V7h2v10zm4 0h-2v-4h2v4z\"/>\n",
              "    </g>\n",
              "</svg>\n",
              "  </button>\n",
              "\n",
              "<style>\n",
              "  .colab-df-quickchart {\n",
              "      --bg-color: #E8F0FE;\n",
              "      --fill-color: #1967D2;\n",
              "      --hover-bg-color: #E2EBFA;\n",
              "      --hover-fill-color: #174EA6;\n",
              "      --disabled-fill-color: #AAA;\n",
              "      --disabled-bg-color: #DDD;\n",
              "  }\n",
              "\n",
              "  [theme=dark] .colab-df-quickchart {\n",
              "      --bg-color: #3B4455;\n",
              "      --fill-color: #D2E3FC;\n",
              "      --hover-bg-color: #434B5C;\n",
              "      --hover-fill-color: #FFFFFF;\n",
              "      --disabled-bg-color: #3B4455;\n",
              "      --disabled-fill-color: #666;\n",
              "  }\n",
              "\n",
              "  .colab-df-quickchart {\n",
              "    background-color: var(--bg-color);\n",
              "    border: none;\n",
              "    border-radius: 50%;\n",
              "    cursor: pointer;\n",
              "    display: none;\n",
              "    fill: var(--fill-color);\n",
              "    height: 32px;\n",
              "    padding: 0;\n",
              "    width: 32px;\n",
              "  }\n",
              "\n",
              "  .colab-df-quickchart:hover {\n",
              "    background-color: var(--hover-bg-color);\n",
              "    box-shadow: 0 1px 2px rgba(60, 64, 67, 0.3), 0 1px 3px 1px rgba(60, 64, 67, 0.15);\n",
              "    fill: var(--button-hover-fill-color);\n",
              "  }\n",
              "\n",
              "  .colab-df-quickchart-complete:disabled,\n",
              "  .colab-df-quickchart-complete:disabled:hover {\n",
              "    background-color: var(--disabled-bg-color);\n",
              "    fill: var(--disabled-fill-color);\n",
              "    box-shadow: none;\n",
              "  }\n",
              "\n",
              "  .colab-df-spinner {\n",
              "    border: 2px solid var(--fill-color);\n",
              "    border-color: transparent;\n",
              "    border-bottom-color: var(--fill-color);\n",
              "    animation:\n",
              "      spin 1s steps(1) infinite;\n",
              "  }\n",
              "\n",
              "  @keyframes spin {\n",
              "    0% {\n",
              "      border-color: transparent;\n",
              "      border-bottom-color: var(--fill-color);\n",
              "      border-left-color: var(--fill-color);\n",
              "    }\n",
              "    20% {\n",
              "      border-color: transparent;\n",
              "      border-left-color: var(--fill-color);\n",
              "      border-top-color: var(--fill-color);\n",
              "    }\n",
              "    30% {\n",
              "      border-color: transparent;\n",
              "      border-left-color: var(--fill-color);\n",
              "      border-top-color: var(--fill-color);\n",
              "      border-right-color: var(--fill-color);\n",
              "    }\n",
              "    40% {\n",
              "      border-color: transparent;\n",
              "      border-right-color: var(--fill-color);\n",
              "      border-top-color: var(--fill-color);\n",
              "    }\n",
              "    60% {\n",
              "      border-color: transparent;\n",
              "      border-right-color: var(--fill-color);\n",
              "    }\n",
              "    80% {\n",
              "      border-color: transparent;\n",
              "      border-right-color: var(--fill-color);\n",
              "      border-bottom-color: var(--fill-color);\n",
              "    }\n",
              "    90% {\n",
              "      border-color: transparent;\n",
              "      border-bottom-color: var(--fill-color);\n",
              "    }\n",
              "  }\n",
              "</style>\n",
              "\n",
              "  <script>\n",
              "    async function quickchart(key) {\n",
              "      const quickchartButtonEl =\n",
              "        document.querySelector('#' + key + ' button');\n",
              "      quickchartButtonEl.disabled = true;  // To prevent multiple clicks.\n",
              "      quickchartButtonEl.classList.add('colab-df-spinner');\n",
              "      try {\n",
              "        const charts = await google.colab.kernel.invokeFunction(\n",
              "            'suggestCharts', [key], {});\n",
              "      } catch (error) {\n",
              "        console.error('Error during call to suggestCharts:', error);\n",
              "      }\n",
              "      quickchartButtonEl.classList.remove('colab-df-spinner');\n",
              "      quickchartButtonEl.classList.add('colab-df-quickchart-complete');\n",
              "    }\n",
              "    (() => {\n",
              "      let quickchartButtonEl =\n",
              "        document.querySelector('#df-6a21c81d-5882-427f-b1b7-e42de7eb4f74 button');\n",
              "      quickchartButtonEl.style.display =\n",
              "        google.colab.kernel.accessAllowed ? 'block' : 'none';\n",
              "    })();\n",
              "  </script>\n",
              "</div>\n",
              "    </div>\n",
              "  </div>\n"
            ]
          },
          "metadata": {},
          "execution_count": 84
        }
      ]
    },
    {
      "cell_type": "code",
      "source": [
        "model_3_predictions = model_3.predict(input_3[:5])\n",
        "\n",
        "print(\"\\n\\nNormalised:\\n\", model_3_predictions)\n",
        "\n",
        "SCALE_NUM_COLL = 1.0\n",
        "\n",
        "min_val = 353\n",
        "max_val = 845\n",
        "\n",
        "unnormalised_predictions_3 = model_3_predictions / SCALE_NUM_COLL * (max_val - min_val) + min_val\n",
        "\n",
        "unnormalised_predictions_3 = unnormalised_predictions_3.astype(int)\n",
        "\n",
        "print(\"\\nAbsolute Values:\\n\", unnormalised_predictions_3)\n"
      ],
      "metadata": {
        "colab": {
          "base_uri": "https://localhost:8080/"
        },
        "id": "m4oiVPzTRq-L",
        "outputId": "7797f7f2-5012-4b04-dba3-4568b73a9717"
      },
      "execution_count": null,
      "outputs": [
        {
          "output_type": "stream",
          "name": "stderr",
          "text": [
            "WARNING:tensorflow:6 out of the last 6 calls to <function Model.make_predict_function.<locals>.predict_function at 0x7b80ba600af0> triggered tf.function retracing. Tracing is expensive and the excessive number of tracings could be due to (1) creating @tf.function repeatedly in a loop, (2) passing tensors with different shapes, (3) passing Python objects instead of tensors. For (1), please define your @tf.function outside of the loop. For (2), @tf.function has reduce_retracing=True option that can avoid unnecessary retracing. For (3), please refer to https://www.tensorflow.org/guide/function#controlling_retracing and https://www.tensorflow.org/api_docs/python/tf/function for  more details.\n"
          ]
        },
        {
          "output_type": "stream",
          "name": "stdout",
          "text": [
            "1/1 [==============================] - 0s 64ms/step\n",
            "\n",
            "\n",
            "Normalised:\n",
            " [[0.49540544]\n",
            " [0.5732825 ]\n",
            " [0.5669234 ]\n",
            " [0.54155844]\n",
            " [0.5409717 ]]\n",
            "\n",
            "Absolute Values:\n",
            " [[596]\n",
            " [635]\n",
            " [631]\n",
            " [619]\n",
            " [619]]\n"
          ]
        }
      ]
    },
    {
      "cell_type": "markdown",
      "source": [
        "#Conclusion"
      ],
      "metadata": {
        "id": "Ns6oPRkAk3OK"
      }
    },
    {
      "cell_type": "markdown",
      "source": [
        "Overall, none of the above models are perfect and require further work to improve their accuracy. However, the results are relatively close, and the process has demonstrated the importance of standardisation and normalisation to improve the accuracy of machine learning.\n",
        "\n",
        "Comparing Model 0, which included the Day Only Non-Standardised variable, we achieved an MAE of approximately 116. Meaning that the predictions are off by approximately 116 per day. As we have not standardised or normalised the output variable, this is an absolute value. However, we saw a slight but notable difference with model 1. Again, using the day-only input variable, but this time with a normalisation layer. Here we see the MAE drop to approximately 87.\n",
        "\n",
        "Furthermore, this project demonstrated how using input variables with strong correlations helps to improve linear models and how weakly correlated variables just add noise and decrease accuracy. We can see that model 2 using the day of the week variable only with normalised collision values resulted in an MAE of approximately 0.1486. However, when using day of the week and max temperature with model 3, the MAE increased to approximately 0.1611, demonstrating less accuracy.\n",
        "\n",
        "Ultimately, none of the above models are perfect and would require further work to improve their accuracy."
      ],
      "metadata": {
        "id": "SOGbGGWRk6YC"
      }
    },
    {
      "cell_type": "markdown",
      "source": [
        "Data Pre-processing:\n",
        "Grady et al. (2017) describe how data cleansing can be an open-ended task and how an agile approach can help to solve the problem of poorly managed data. Using an agile methodology within this project, we can iteratively revisit each stage of the project, including the initial data pre-processing stage and thus, identify any errors that may have been missed previously, or look again at the threshold of where outliers are situated within the dataset.\n",
        "\n",
        "Feature Engineering:\n",
        "Dong and Huan (2018) state that machine learning tasks rely on effective feature engineering. Therefore, to improve our models, further feature engineering is an important consideration for future work. It is likely that there are other relevant features that could improve the model's predictive power, such as location details identified in the previous data science element of this project. Although these were omitted on this occasion, these variables would likely be very useful predictors.\n",
        "\n",
        "Cross-Validation:\n",
        "To ensure that the models generalise well to new data, splitting the data into training and testing data is an important step (Google, 2024). For our testing and training data we have used a 20/80 split respectively. However, future work could involve cross-validation to split our training data into blocks and compare which blocks gave the best results. E.g. split our data into five blocks (20% each), known as five-fold cross validation or generally, K-fold-cross-validation for unknown number of blocks (Shrivastava, 2020). As a result, different blocks (20%) of data can be used for testing. Ultimately, splitting training and test data, as well as cross-validation allows us to assess how well the model generalises to unseen data and ensures that our model is not overfitting to training data.\n",
        "\n",
        "Use a different model:\n",
        "We could also use cross-validation to test the different arrangement of blocks with different models; because it could be possible that our simple linear regression model is not capturing the complexity of the underlying relationships in the data, especially considering the nature of this highly complex problem with many potential variables. Therefore, we could consider using a more complex model, such as polynomial regression (pavankumar, 2023) or other non-linear regression. However, we will use a deep neural network with multiple layers in the next part of this project. Both polynomial regression and DNNs can capture intricate patterns and relationships in data, especially when the relationships are non-linear or involve high degrees of complexity.\n",
        "\n",
        "Ultimately, iteratively experimenting with each step in the process and assessing the impact will help us to improve model accuracy."
      ],
      "metadata": {
        "id": "y1Z04KFV5aii"
      }
    },
    {
      "cell_type": "markdown",
      "source": [
        "#Bibliography"
      ],
      "metadata": {
        "id": "twah1KdZk7Xl"
      }
    },
    {
      "cell_type": "markdown",
      "source": [
        "Dong, G. and Huan, L.e. (2018) Feature Engineering for Machine Learning and Data Analytics. Boca Raton, FL: CRC press.\n",
        "\n",
        "Google (2024) Training and Test Sets: Splitting Data. Available at: https://developers.google.com/machine-learning/crash-course/training-and-test-sets/splitting-data (Accessed: 07 Jan 2024).\n",
        "\n",
        "Grady, N.W., Payne, J.A. and Parker, H. (2017) 'Agile big data analytics: AnalyticsOps for data science Publisher: IEEE Cite This.' 2017 IEEE International Conference on Big Data (Big Data). Boston, MA IEEE, pp.2331-39.\n",
        "\n",
        "pavankumar (2023) Polynomial Regression Unraveled: Modeling Complex Relationships. Available at: https://medium.com/@uppalapavankumar18/polynomial-regression-unraveled-modeling-complex-relationships-bfc2b347e397 (Accessed: 7 Jan 2024).\n",
        "\n",
        "Pradhan, B. and Sameen , M.I. (2019) 'Predicting Injury Severity of Road Traffic Accidents Using a Hybrid Extreme Gradient Boosting and Deep Neural Network Approach', Laser Scanning Systems in Highway and Safety Assessment pp.119–27.\n",
        "\n",
        "Shrivastava, S. (2020) Cross Validation in Time Series. Available at: https://medium.com/@soumyachess1496/cross-validation-in-time-series-566ae4981ce4 (Accessed: 7 Jan 2024)."
      ],
      "metadata": {
        "id": "b8U89EMYk9In"
      }
    }
  ]
}